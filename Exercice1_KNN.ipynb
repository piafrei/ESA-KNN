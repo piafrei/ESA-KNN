{
  "nbformat": 4,
  "nbformat_minor": 0,
  "metadata": {
    "colab": {
      "name": "KNN.ipynb",
      "provenance": [],
      "collapsed_sections": []
    },
    "kernelspec": {
      "name": "python3",
      "display_name": "Python 3"
    },
    "language_info": {
      "name": "python"
    }
  },
  "cells": [
    {
      "cell_type": "code",
      "source": [
        "#imports are only used for plotting (to check result correctness) and dataset, not the algorithm itself\n",
        "from sklearn import datasets\n",
        "import matplotlib.pyplot as plt"
      ],
      "metadata": {
        "id": "VaGBU3oFH4LE"
      },
      "execution_count": 113,
      "outputs": []
    },
    {
      "cell_type": "code",
      "source": [
        "#You normalize your data in another table\n",
        "\n",
        "iris = datasets.load_iris()\n",
        "X = iris[\"data\"][:, 2:] # prepare 2D data: 'sepal length (cm)' and 'sepal width (cm)'\n",
        "Y = iris.target # 0,1,2\n",
        "\n",
        "for i in range(len(X)):\n",
        "    if Y[i] == 0:\n",
        "        plt.scatter(X[i][0], X[i][1], s=60, linewidths=2, color='black')\n",
        "    if Y[i] == 1:\n",
        "        plt.scatter(X[i][0], X[i][1], s=60, linewidths=2, color='orange')\n",
        "    if Y[i] == 2:\n",
        "        plt.scatter(X[i][0], X[i][1], s=60, linewidths=2, color='green')\n",
        "\n",
        "plt.plot()  "
      ],
      "metadata": {
        "colab": {
          "base_uri": "https://localhost:8080/",
          "height": 282
        },
        "id": "X50GcR1wE5JR",
        "outputId": "fdf7bee7-7955-4b26-bfbf-d22a09916948"
      },
      "execution_count": 114,
      "outputs": [
        {
          "output_type": "execute_result",
          "data": {
            "text/plain": [
              "[]"
            ]
          },
          "metadata": {},
          "execution_count": 114
        },
        {
          "output_type": "display_data",
          "data": {
            "text/plain": [
              "<Figure size 432x288 with 1 Axes>"
            ],
            "image/png": "[encoded data removed]"
          },
          "metadata": {
            "needs_background": "light"
          }
        }
      ]
    },
    {
      "cell_type": "code",
      "source": [
        "#You code a simple euclid distance function\n",
        "\n",
        "def eucleadian_distance(instance1,instance2):\n",
        "  return (sum([(a - b) ** 2 for a, b in zip(instance1, instance2)])) ** 0.5"
      ],
      "metadata": {
        "id": "SGuMD-jdy-Fq"
      },
      "execution_count": 115,
      "outputs": []
    },
    {
      "cell_type": "code",
      "source": [
        "#You take a point and calculate the distance to all points\n",
        "#You take the list from above and sort it\n",
        "\n",
        "def get_neighbors(training_set, \n",
        "                  labels, \n",
        "                  test_instance, \n",
        "                  k, \n",
        "                  distance=eucleadian_distance):\n",
        "   \n",
        "    distances = []\n",
        "    for index in range(len(training_set)):\n",
        "        dist = distance(test_instance, training_set[index])\n",
        "        distances.append((training_set[index], dist, labels[index]))\n",
        "    distances.sort(key=lambda x: x[1])\n",
        "    neighbors = distances[:k]\n",
        "    return neighbors"
      ],
      "metadata": {
        "id": "6WYSnmgozpth"
      },
      "execution_count": 116,
      "outputs": []
    },
    {
      "cell_type": "code",
      "source": [
        "#You aggregate by target variable\n",
        "#you take the max to determine the target class\n",
        "\n",
        "def vote(neighbors):\n",
        "    class_counter = {}\n",
        "    for neighbor in neighbors:\n",
        "        if neighbor[2] in class_counter.keys():\n",
        "          class_counter[neighbor[2]] += 1\n",
        "        else:\n",
        "          class_counter[neighbor[2]] = 1\n",
        "    return get_target_with_max_votes(class_counter)\n",
        "\n",
        "def get_target_with_max_votes(map): \n",
        "     values = list(map.values())\n",
        "     keys = list(map.keys())\n",
        "     return keys[values.index(max(values))]\n",
        "\n",
        "def get_target_from_KNN(training_set, \n",
        "                  labels, \n",
        "                  test_instance, \n",
        "                  k, \n",
        "                  distance=eucleadian_distance):\n",
        "  \n",
        "    return vote(get_neighbors(X, Y, point, 5, distance=eucleadian_distance));\n"
      ],
      "metadata": {
        "id": "c9BtRXNG0543"
      },
      "execution_count": 117,
      "outputs": []
    },
    {
      "cell_type": "code",
      "source": [
        "point = [5.0, 2.0]\n",
        "get_target_from_KNN(X, Y, point, 5, distance=eucleadian_distance)"
      ],
      "metadata": {
        "colab": {
          "base_uri": "https://localhost:8080/"
        },
        "id": "MCLQttFBcvuW",
        "outputId": "df2c7d0f-8893-48e9-9904-e9262e185ce4"
      },
      "execution_count": 108,
      "outputs": [
        {
          "output_type": "execute_result",
          "data": {
            "text/plain": [
              "2"
            ]
          },
          "metadata": {},
          "execution_count": 108
        }
      ]
    }
  ]
}